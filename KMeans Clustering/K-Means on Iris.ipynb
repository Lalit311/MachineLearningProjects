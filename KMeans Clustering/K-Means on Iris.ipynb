{
 "cells": [
  {
   "cell_type": "markdown",
   "id": "ed09e2df",
   "metadata": {},
   "source": [
    "### Importing Libraries"
   ]
  },
  {
   "cell_type": "code",
   "execution_count": 430,
   "id": "64d2c020",
   "metadata": {},
   "outputs": [],
   "source": [
    "import random\n",
    "import math\n",
    "from sklearn.datasets import load_iris\n",
    "import pandas as pd\n",
    "import seaborn as sns\n",
    "import matplotlib.pyplot as plt"
   ]
  },
  {
   "cell_type": "markdown",
   "id": "da2e2070",
   "metadata": {},
   "source": [
    "### Coding KMeans from scratch"
   ]
  },
  {
   "cell_type": "code",
   "execution_count": 431,
   "id": "b0213655",
   "metadata": {},
   "outputs": [],
   "source": [
    "class KMeans:\n",
    "    def __init__(self, k, max_iterations, norm):\n",
    "        self.k = k\n",
    "        self.max_iterations = max_iterations\n",
    "        self.norm = norm\n",
    "    \n",
    "    def fit(self, X):\n",
    "        # Initialize centroids randomly\n",
    "        self.centroids = random.sample(X, self.k)\n",
    "        \n",
    "        for i in range(self.max_iterations):\n",
    "            # Initialize empty clusters\n",
    "            clusters = [[] for _ in range(self.k)]\n",
    "            \n",
    "            # Assign each data point to the nearest centroid\n",
    "            for x in X:\n",
    "                if self.norm == 1:\n",
    "                    distances = [self.manhattan_distance(x, c) for c in self.centroids] \n",
    "                if self.norm == 2:\n",
    "                    distances = [self.euclidean_distance(x, c) for c in self.centroids]\n",
    "                nearest_centroid_index = distances.index(min(distances))\n",
    "                clusters[nearest_centroid_index].append(x)\n",
    "            \n",
    "            # Update centroids\n",
    "            old_centroids = self.centroids.copy()\n",
    "            for j in range(self.k):\n",
    "                self.centroids[j] = self.mean(clusters[j])\n",
    "            \n",
    "            # If the centroids haven't moved, stop iterating\n",
    "            if  self.centroids == old_centroids:\n",
    "                break\n",
    "\n",
    "        output = []\n",
    "        for i, cluster in enumerate(clusters):\n",
    "            for c in cluster:\n",
    "                c.append(i)\n",
    "            output += cluster\n",
    "\n",
    "        return output\n",
    "    \n",
    "    def predict(self, X):\n",
    "        # Assign each data point to the nearest centroid\n",
    "        cluster_assignments = []\n",
    "        for x in X:\n",
    "            if self.norm == 1:\n",
    "                distances = [self.manhattan_distance(x, c) for c in self.centroids] \n",
    "            if self.norm == 2:\n",
    "                distances = [self.euclidean_distance(x, c) for c in self.centroids]\n",
    "            nearest_centroid_index = distances.index(min(distances))\n",
    "            #cluster_assignments.append(nearest_centroid_index)\n",
    "            x[4] = nearest_centroid_index\n",
    "        return X\n",
    "    \n",
    "    def euclidean_distance(self, a, b):\n",
    "        # L2 Norm\n",
    "        return math.sqrt(sum((x - y) ** 2 for x, y in zip(a, b)))\n",
    "    \n",
    "    def manhattan_distance(self, a, b):\n",
    "        # L1 Norm\n",
    "        return sum(abs(x - y) for x, y in zip(a, b))\n",
    "    \n",
    "    def mean(self, cluster):\n",
    "        # Compute the mean of a cluster (i.e. the new centroid)\n",
    "        if not cluster:\n",
    "            return random.choice(self.centroids)\n",
    "        return [sum(x) / len(cluster) for x in zip(*cluster)]"
   ]
  },
  {
   "cell_type": "markdown",
   "id": "7433baa7",
   "metadata": {},
   "source": [
    "### Load Iris Data from sklearn"
   ]
  },
  {
   "cell_type": "code",
   "execution_count": 432,
   "id": "d5955311",
   "metadata": {},
   "outputs": [],
   "source": [
    "irisData = load_iris()"
   ]
  },
  {
   "cell_type": "code",
   "execution_count": 433,
   "id": "f2c099b7",
   "metadata": {},
   "outputs": [],
   "source": [
    "#Converting numpy array to a python list\n",
    "data = irisData.data.tolist()\n",
    "target = irisData.target.tolist()"
   ]
  },
  {
   "cell_type": "markdown",
   "id": "387407fe",
   "metadata": {},
   "source": [
    "### Using KMeans Clustering"
   ]
  },
  {
   "cell_type": "code",
   "execution_count": 434,
   "id": "031b5cf4",
   "metadata": {},
   "outputs": [],
   "source": [
    "# Creating KMeans Model Object (norm: 1-Manhattan distance, 2-Euclidean distance)\n",
    "# Taken k=3 to create 3 clusters as we have 3 different targets in our dataset\n",
    "norm=2\n",
    "kmeans = KMeans(k=3, max_iterations=500, norm=norm)"
   ]
  },
  {
   "cell_type": "code",
   "execution_count": 435,
   "id": "f22f891d",
   "metadata": {},
   "outputs": [],
   "source": [
    "# Training the model\n",
    "results = kmeans.fit(data)"
   ]
  },
  {
   "cell_type": "code",
   "execution_count": 436,
   "id": "5176af9e",
   "metadata": {},
   "outputs": [],
   "source": [
    "# Appending the target to the results for easy comparison\n",
    "for i, result in enumerate(results):\n",
    "    result.append(target[i])"
   ]
  },
  {
   "cell_type": "code",
   "execution_count": 437,
   "id": "258d1029",
   "metadata": {},
   "outputs": [],
   "source": [
    "# Converting the result to a pandas dataframe for better visualization\n",
    "results_pd = pd.DataFrame(results, \n",
    "                              columns=['Sepal_Length_Cm',\n",
    "                                        'Sepal_Width_Cm',\n",
    "                                          'Petal_Length_Cm',\n",
    "                                            'Petal_Width_Cm',\n",
    "                                              'Predicted_Clusters',\n",
    "                                                'Actual_Clusters'])"
   ]
  },
  {
   "cell_type": "code",
   "execution_count": 438,
   "id": "f4aae5da",
   "metadata": {},
   "outputs": [
    {
     "data": {
      "text/html": [
       "<div>\n",
       "<style scoped>\n",
       "    .dataframe tbody tr th:only-of-type {\n",
       "        vertical-align: middle;\n",
       "    }\n",
       "\n",
       "    .dataframe tbody tr th {\n",
       "        vertical-align: top;\n",
       "    }\n",
       "\n",
       "    .dataframe thead th {\n",
       "        text-align: right;\n",
       "    }\n",
       "</style>\n",
       "<table border=\"1\" class=\"dataframe\">\n",
       "  <thead>\n",
       "    <tr style=\"text-align: right;\">\n",
       "      <th></th>\n",
       "      <th>Sepal_Length_Cm</th>\n",
       "      <th>Sepal_Width_Cm</th>\n",
       "      <th>Petal_Length_Cm</th>\n",
       "      <th>Petal_Width_Cm</th>\n",
       "      <th>Predicted_Clusters</th>\n",
       "      <th>Actual_Clusters</th>\n",
       "    </tr>\n",
       "  </thead>\n",
       "  <tbody>\n",
       "    <tr>\n",
       "      <th>0</th>\n",
       "      <td>5.1</td>\n",
       "      <td>3.5</td>\n",
       "      <td>1.4</td>\n",
       "      <td>0.2</td>\n",
       "      <td>0</td>\n",
       "      <td>0</td>\n",
       "    </tr>\n",
       "    <tr>\n",
       "      <th>1</th>\n",
       "      <td>4.9</td>\n",
       "      <td>3.0</td>\n",
       "      <td>1.4</td>\n",
       "      <td>0.2</td>\n",
       "      <td>0</td>\n",
       "      <td>0</td>\n",
       "    </tr>\n",
       "    <tr>\n",
       "      <th>2</th>\n",
       "      <td>4.7</td>\n",
       "      <td>3.2</td>\n",
       "      <td>1.3</td>\n",
       "      <td>0.2</td>\n",
       "      <td>0</td>\n",
       "      <td>0</td>\n",
       "    </tr>\n",
       "    <tr>\n",
       "      <th>3</th>\n",
       "      <td>4.6</td>\n",
       "      <td>3.1</td>\n",
       "      <td>1.5</td>\n",
       "      <td>0.2</td>\n",
       "      <td>0</td>\n",
       "      <td>0</td>\n",
       "    </tr>\n",
       "    <tr>\n",
       "      <th>4</th>\n",
       "      <td>5.0</td>\n",
       "      <td>3.6</td>\n",
       "      <td>1.4</td>\n",
       "      <td>0.2</td>\n",
       "      <td>0</td>\n",
       "      <td>0</td>\n",
       "    </tr>\n",
       "    <tr>\n",
       "      <th>...</th>\n",
       "      <td>...</td>\n",
       "      <td>...</td>\n",
       "      <td>...</td>\n",
       "      <td>...</td>\n",
       "      <td>...</td>\n",
       "      <td>...</td>\n",
       "    </tr>\n",
       "    <tr>\n",
       "      <th>145</th>\n",
       "      <td>6.8</td>\n",
       "      <td>3.2</td>\n",
       "      <td>5.9</td>\n",
       "      <td>2.3</td>\n",
       "      <td>2</td>\n",
       "      <td>2</td>\n",
       "    </tr>\n",
       "    <tr>\n",
       "      <th>146</th>\n",
       "      <td>6.7</td>\n",
       "      <td>3.3</td>\n",
       "      <td>5.7</td>\n",
       "      <td>2.5</td>\n",
       "      <td>2</td>\n",
       "      <td>2</td>\n",
       "    </tr>\n",
       "    <tr>\n",
       "      <th>147</th>\n",
       "      <td>6.7</td>\n",
       "      <td>3.0</td>\n",
       "      <td>5.2</td>\n",
       "      <td>2.3</td>\n",
       "      <td>2</td>\n",
       "      <td>2</td>\n",
       "    </tr>\n",
       "    <tr>\n",
       "      <th>148</th>\n",
       "      <td>6.5</td>\n",
       "      <td>3.0</td>\n",
       "      <td>5.2</td>\n",
       "      <td>2.0</td>\n",
       "      <td>2</td>\n",
       "      <td>2</td>\n",
       "    </tr>\n",
       "    <tr>\n",
       "      <th>149</th>\n",
       "      <td>6.2</td>\n",
       "      <td>3.4</td>\n",
       "      <td>5.4</td>\n",
       "      <td>2.3</td>\n",
       "      <td>2</td>\n",
       "      <td>2</td>\n",
       "    </tr>\n",
       "  </tbody>\n",
       "</table>\n",
       "<p>150 rows × 6 columns</p>\n",
       "</div>"
      ],
      "text/plain": [
       "     Sepal_Length_Cm  Sepal_Width_Cm  Petal_Length_Cm  Petal_Width_Cm  \\\n",
       "0                5.1             3.5              1.4             0.2   \n",
       "1                4.9             3.0              1.4             0.2   \n",
       "2                4.7             3.2              1.3             0.2   \n",
       "3                4.6             3.1              1.5             0.2   \n",
       "4                5.0             3.6              1.4             0.2   \n",
       "..               ...             ...              ...             ...   \n",
       "145              6.8             3.2              5.9             2.3   \n",
       "146              6.7             3.3              5.7             2.5   \n",
       "147              6.7             3.0              5.2             2.3   \n",
       "148              6.5             3.0              5.2             2.0   \n",
       "149              6.2             3.4              5.4             2.3   \n",
       "\n",
       "     Predicted_Clusters  Actual_Clusters  \n",
       "0                     0                0  \n",
       "1                     0                0  \n",
       "2                     0                0  \n",
       "3                     0                0  \n",
       "4                     0                0  \n",
       "..                  ...              ...  \n",
       "145                   2                2  \n",
       "146                   2                2  \n",
       "147                   2                2  \n",
       "148                   2                2  \n",
       "149                   2                2  \n",
       "\n",
       "[150 rows x 6 columns]"
      ]
     },
     "execution_count": 438,
     "metadata": {},
     "output_type": "execute_result"
    }
   ],
   "source": [
    "results_pd"
   ]
  },
  {
   "cell_type": "code",
   "execution_count": 439,
   "id": "d5ff4419",
   "metadata": {},
   "outputs": [],
   "source": [
    "# Exporting the results to a csv file\n",
    "results_pd.to_csv(f'Iris_Clustering_L{norm}_Results.csv')"
   ]
  },
  {
   "cell_type": "code",
   "execution_count": 440,
   "id": "3a4d836f",
   "metadata": {},
   "outputs": [],
   "source": [
    "# Predicting the values for our model\n",
    "predicted_results = kmeans.predict(random.sample(data, 10))\n",
    "predicted_results_pd = pd.DataFrame(predicted_results, \n",
    "                              columns=['Sepal_Length_Cm',\n",
    "                                        'Sepal_Width_Cm',\n",
    "                                          'Petal_Length_Cm',\n",
    "                                            'Petal_Width_Cm',\n",
    "                                              'Predicted_Clusters',\n",
    "                                                'Actual_Clusters'])\n"
   ]
  },
  {
   "cell_type": "code",
   "execution_count": 441,
   "id": "a39c147e",
   "metadata": {},
   "outputs": [
    {
     "data": {
      "text/html": [
       "<div>\n",
       "<style scoped>\n",
       "    .dataframe tbody tr th:only-of-type {\n",
       "        vertical-align: middle;\n",
       "    }\n",
       "\n",
       "    .dataframe tbody tr th {\n",
       "        vertical-align: top;\n",
       "    }\n",
       "\n",
       "    .dataframe thead th {\n",
       "        text-align: right;\n",
       "    }\n",
       "</style>\n",
       "<table border=\"1\" class=\"dataframe\">\n",
       "  <thead>\n",
       "    <tr style=\"text-align: right;\">\n",
       "      <th></th>\n",
       "      <th>Sepal_Length_Cm</th>\n",
       "      <th>Sepal_Width_Cm</th>\n",
       "      <th>Petal_Length_Cm</th>\n",
       "      <th>Petal_Width_Cm</th>\n",
       "      <th>Predicted_Clusters</th>\n",
       "      <th>Actual_Clusters</th>\n",
       "    </tr>\n",
       "  </thead>\n",
       "  <tbody>\n",
       "    <tr>\n",
       "      <th>0</th>\n",
       "      <td>4.5</td>\n",
       "      <td>2.3</td>\n",
       "      <td>1.3</td>\n",
       "      <td>0.3</td>\n",
       "      <td>0</td>\n",
       "      <td>0</td>\n",
       "    </tr>\n",
       "    <tr>\n",
       "      <th>1</th>\n",
       "      <td>5.4</td>\n",
       "      <td>3.0</td>\n",
       "      <td>4.5</td>\n",
       "      <td>1.5</td>\n",
       "      <td>1</td>\n",
       "      <td>1</td>\n",
       "    </tr>\n",
       "    <tr>\n",
       "      <th>2</th>\n",
       "      <td>5.5</td>\n",
       "      <td>2.6</td>\n",
       "      <td>4.4</td>\n",
       "      <td>1.2</td>\n",
       "      <td>1</td>\n",
       "      <td>1</td>\n",
       "    </tr>\n",
       "    <tr>\n",
       "      <th>3</th>\n",
       "      <td>4.6</td>\n",
       "      <td>3.4</td>\n",
       "      <td>1.4</td>\n",
       "      <td>0.3</td>\n",
       "      <td>0</td>\n",
       "      <td>0</td>\n",
       "    </tr>\n",
       "    <tr>\n",
       "      <th>4</th>\n",
       "      <td>5.9</td>\n",
       "      <td>3.2</td>\n",
       "      <td>4.8</td>\n",
       "      <td>1.8</td>\n",
       "      <td>1</td>\n",
       "      <td>1</td>\n",
       "    </tr>\n",
       "    <tr>\n",
       "      <th>5</th>\n",
       "      <td>5.4</td>\n",
       "      <td>3.9</td>\n",
       "      <td>1.7</td>\n",
       "      <td>0.4</td>\n",
       "      <td>0</td>\n",
       "      <td>0</td>\n",
       "    </tr>\n",
       "    <tr>\n",
       "      <th>6</th>\n",
       "      <td>6.0</td>\n",
       "      <td>2.7</td>\n",
       "      <td>5.1</td>\n",
       "      <td>1.6</td>\n",
       "      <td>1</td>\n",
       "      <td>1</td>\n",
       "    </tr>\n",
       "    <tr>\n",
       "      <th>7</th>\n",
       "      <td>6.8</td>\n",
       "      <td>2.8</td>\n",
       "      <td>4.8</td>\n",
       "      <td>1.4</td>\n",
       "      <td>1</td>\n",
       "      <td>1</td>\n",
       "    </tr>\n",
       "    <tr>\n",
       "      <th>8</th>\n",
       "      <td>6.2</td>\n",
       "      <td>2.8</td>\n",
       "      <td>4.8</td>\n",
       "      <td>1.8</td>\n",
       "      <td>1</td>\n",
       "      <td>2</td>\n",
       "    </tr>\n",
       "    <tr>\n",
       "      <th>9</th>\n",
       "      <td>5.5</td>\n",
       "      <td>2.4</td>\n",
       "      <td>3.8</td>\n",
       "      <td>1.1</td>\n",
       "      <td>1</td>\n",
       "      <td>1</td>\n",
       "    </tr>\n",
       "  </tbody>\n",
       "</table>\n",
       "</div>"
      ],
      "text/plain": [
       "   Sepal_Length_Cm  Sepal_Width_Cm  Petal_Length_Cm  Petal_Width_Cm  \\\n",
       "0              4.5             2.3              1.3             0.3   \n",
       "1              5.4             3.0              4.5             1.5   \n",
       "2              5.5             2.6              4.4             1.2   \n",
       "3              4.6             3.4              1.4             0.3   \n",
       "4              5.9             3.2              4.8             1.8   \n",
       "5              5.4             3.9              1.7             0.4   \n",
       "6              6.0             2.7              5.1             1.6   \n",
       "7              6.8             2.8              4.8             1.4   \n",
       "8              6.2             2.8              4.8             1.8   \n",
       "9              5.5             2.4              3.8             1.1   \n",
       "\n",
       "   Predicted_Clusters  Actual_Clusters  \n",
       "0                   0                0  \n",
       "1                   1                1  \n",
       "2                   1                1  \n",
       "3                   0                0  \n",
       "4                   1                1  \n",
       "5                   0                0  \n",
       "6                   1                1  \n",
       "7                   1                1  \n",
       "8                   1                2  \n",
       "9                   1                1  "
      ]
     },
     "execution_count": 441,
     "metadata": {},
     "output_type": "execute_result"
    }
   ],
   "source": [
    "predicted_results_pd"
   ]
  },
  {
   "cell_type": "markdown",
   "id": "a20c1a8b",
   "metadata": {},
   "source": [
    "### Visualization"
   ]
  },
  {
   "cell_type": "code",
   "execution_count": 442,
   "id": "3dc5adca",
   "metadata": {},
   "outputs": [
    {
     "data": {
      "image/png": "[encoded data removed]",
      "text/plain": [
       "<Figure size 639.861x500 with 1 Axes>"
      ]
     },
     "metadata": {},
     "output_type": "display_data"
    }
   ],
   "source": [
    "sns.FacetGrid(results_pd, hue=\"Predicted_Clusters\", height=5).map(plt.scatter, \"Sepal_Length_Cm\", \"Sepal_Width_Cm\").add_legend();"
   ]
  },
  {
   "cell_type": "code",
   "execution_count": 443,
   "id": "4d6fad77",
   "metadata": {},
   "outputs": [
    {
     "data": {
      "image/png": "[encoded data removed]",
      "text/plain": [
       "<Figure size 639.861x500 with 1 Axes>"
      ]
     },
     "metadata": {},
     "output_type": "display_data"
    }
   ],
   "source": [
    "sns.FacetGrid(results_pd, hue=\"Predicted_Clusters\", height=5).map(plt.scatter, \"Petal_Length_Cm\",\"Petal_Width_Cm\").add_legend();"
   ]
  },
  {
   "cell_type": "markdown",
   "id": "3fc3d9ea",
   "metadata": {},
   "source": [
    "### Evaluation"
   ]
  },
  {
   "cell_type": "code",
   "execution_count": 444,
   "id": "9f0631df",
   "metadata": {},
   "outputs": [
    {
     "data": {
      "text/html": [
       "<div>\n",
       "<style scoped>\n",
       "    .dataframe tbody tr th:only-of-type {\n",
       "        vertical-align: middle;\n",
       "    }\n",
       "\n",
       "    .dataframe tbody tr th {\n",
       "        vertical-align: top;\n",
       "    }\n",
       "\n",
       "    .dataframe thead th {\n",
       "        text-align: right;\n",
       "    }\n",
       "</style>\n",
       "<table border=\"1\" class=\"dataframe\">\n",
       "  <thead>\n",
       "    <tr style=\"text-align: right;\">\n",
       "      <th>Predicted_Clusters</th>\n",
       "      <th>0</th>\n",
       "      <th>1</th>\n",
       "      <th>2</th>\n",
       "    </tr>\n",
       "    <tr>\n",
       "      <th>Actual_Clusters</th>\n",
       "      <th></th>\n",
       "      <th></th>\n",
       "      <th></th>\n",
       "    </tr>\n",
       "  </thead>\n",
       "  <tbody>\n",
       "    <tr>\n",
       "      <th>0</th>\n",
       "      <td>50</td>\n",
       "      <td>0</td>\n",
       "      <td>0</td>\n",
       "    </tr>\n",
       "    <tr>\n",
       "      <th>1</th>\n",
       "      <td>0</td>\n",
       "      <td>50</td>\n",
       "      <td>0</td>\n",
       "    </tr>\n",
       "    <tr>\n",
       "      <th>2</th>\n",
       "      <td>0</td>\n",
       "      <td>11</td>\n",
       "      <td>39</td>\n",
       "    </tr>\n",
       "  </tbody>\n",
       "</table>\n",
       "</div>"
      ],
      "text/plain": [
       "Predicted_Clusters   0   1   2\n",
       "Actual_Clusters               \n",
       "0                   50   0   0\n",
       "1                    0  50   0\n",
       "2                    0  11  39"
      ]
     },
     "execution_count": 444,
     "metadata": {},
     "output_type": "execute_result"
    }
   ],
   "source": [
    "#Confusion Matrix\n",
    "pd.crosstab(results_pd.Actual_Clusters, results_pd.Predicted_Clusters)"
   ]
  },
  {
   "cell_type": "code",
   "execution_count": 445,
   "id": "a2a415f9",
   "metadata": {},
   "outputs": [],
   "source": [
    "# Calculating accuracy \n",
    "def accuracy_metric(actual, predicted):\n",
    "    correct = 0\n",
    "    for i in range(len(actual)):\n",
    "        if actual[i] == predicted[i]:\n",
    "            correct += 1\n",
    "    return correct / float(len(actual))"
   ]
  },
  {
   "cell_type": "code",
   "execution_count": 446,
   "id": "b9d5e5e8",
   "metadata": {},
   "outputs": [],
   "source": [
    "# Calculate mean squared error\n",
    "def mse(actual, predicted):\n",
    "    sum_error = 0.0\n",
    "    for i in range(len(actual)):\n",
    "        prediction_error = predicted[i] - actual[i]\n",
    "        sum_error += (prediction_error ** 2)\n",
    "    return sum_error / float(len(actual))"
   ]
  },
  {
   "cell_type": "code",
   "execution_count": 447,
   "id": "87d818e7",
   "metadata": {},
   "outputs": [
    {
     "name": "stdout",
     "output_type": "stream",
     "text": [
      "Accuracy for L2 Norm - 0.9266666666666666\n",
      "MSE for L2 Norm - 0.07333333333333333\n"
     ]
    }
   ],
   "source": [
    "actual = []\n",
    "predicted = []\n",
    "for i in range(len(results)):\n",
    "    predicted.append(results[i][4])\n",
    "    actual.append(results[i][5])\n",
    "\n",
    "print(f\"Accuracy for L{norm} Norm - {accuracy_metric(actual, predicted)}\")\n",
    "print(f\"MSE for L{norm} Norm - {mse(actual, predicted)}\")"
   ]
  },
  {
   "cell_type": "code",
   "execution_count": null,
   "id": "e0ad27ef",
   "metadata": {},
   "outputs": [],
   "source": []
  }
 ],
 "metadata": {
  "kernelspec": {
   "display_name": "Python 3 (ipykernel)",
   "language": "python",
   "name": "python3"
  },
  "language_info": {
   "codemirror_mode": {
    "name": "ipython",
    "version": 3
   },
   "file_extension": ".py",
   "mimetype": "text/x-python",
   "name": "python",
   "nbconvert_exporter": "python",
   "pygments_lexer": "ipython3",
   "version": "3.11.1"
  }
 },
 "nbformat": 4,
 "nbformat_minor": 5
}
